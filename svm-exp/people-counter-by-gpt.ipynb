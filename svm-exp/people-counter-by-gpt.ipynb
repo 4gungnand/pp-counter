{
 "cells": [
  {
   "cell_type": "code",
   "execution_count": 65,
   "metadata": {},
   "outputs": [],
   "source": [
    "import cv2\n",
    "import numpy as np\n",
    "from skimage.feature import hog\n",
    "from sklearn.svm import LinearSVC\n",
    "import pickle"
   ]
  },
  {
   "cell_type": "code",
   "execution_count": 66,
   "metadata": {},
   "outputs": [],
   "source": [
    "# Load pre-trained SVM model (You need to train it or use a pre-trained one)\n",
    "with open('svm_model.pkl', 'rb') as file:\n",
    "    svm = pickle.load(file)"
   ]
  },
  {
   "cell_type": "code",
   "execution_count": 67,
   "metadata": {},
   "outputs": [],
   "source": [
    "# Define HOG parameters\n",
    "hog_params = {\n",
    "    'orientations': 9,\n",
    "    'pixels_per_cell': (8, 8),\n",
    "    'cells_per_block': (2, 2),\n",
    "    'block_norm': 'L2-Hys',\n",
    "    'transform_sqrt': True\n",
    "}"
   ]
  },
  {
   "cell_type": "code",
   "execution_count": 68,
   "metadata": {},
   "outputs": [],
   "source": [
    "# Define sliding window parameters\n",
    "window_size = (64, 128)\n",
    "step_size = 16"
   ]
  },
  {
   "cell_type": "code",
   "execution_count": 69,
   "metadata": {},
   "outputs": [],
   "source": [
    "def detect_people(frame):\n",
    "    people_count = 0\n",
    "    gray = cv2.cvtColor(frame, cv2.COLOR_BGR2GRAY)\n",
    "    frame_height, frame_width = gray.shape\n",
    "\n",
    "    for y in range(0, frame_height - window_size[1], step_size):\n",
    "        for x in range(0, frame_width - window_size[0], step_size):\n",
    "            window = gray[y:y + window_size[1], x:x + window_size[0]]\n",
    "            if window.shape[0] != window_size[1] or window.shape[1] != window_size[0]:\n",
    "                continue\n",
    "\n",
    "            features = hog(window, **hog_params).reshape(1, -1)\n",
    "            prediction = svm.predict(features)\n",
    "\n",
    "            if prediction == 1:\n",
    "                people_count += 1\n",
    "                cv2.rectangle(frame, (x, y), (x + window_size[0], y + window_size[1]), (0, 255, 0), 2)\n",
    "\n",
    "    return frame, people_count"
   ]
  },
  {
   "cell_type": "code",
   "execution_count": 70,
   "metadata": {},
   "outputs": [],
   "source": [
    "def process_video(video_path):\n",
    "    cap = cv2.VideoCapture(video_path)\n",
    "    while cap.isOpened():\n",
    "        ret, frame = cap.read()\n",
    "        if not ret:\n",
    "            break\n",
    "\n",
    "        frame, people_count = detect_people(frame)\n",
    "        cv2.putText(frame, f'People Count: {people_count}', (10, 30), cv2.FONT_HERSHEY_SIMPLEX, 1, (0, 255, 0), 2)\n",
    "\n",
    "        cv2.imshow('People Detection', frame)\n",
    "        if cv2.waitKey(1) & 0xFF == ord('q'):\n",
    "            break\n",
    "\n",
    "    cap.release()\n",
    "    cv2.destroyAllWindows()"
   ]
  },
  {
   "cell_type": "code",
   "execution_count": 71,
   "metadata": {},
   "outputs": [],
   "source": [
    "if __name__ == '__main__':\n",
    "    video_path = '1.mp4'  # Replace with your video file path\n",
    "    process_video(video_path)"
   ]
  }
 ],
 "metadata": {
  "kernelspec": {
   "display_name": "Python 3",
   "language": "python",
   "name": "python3"
  },
  "language_info": {
   "codemirror_mode": {
    "name": "ipython",
    "version": 3
   },
   "file_extension": ".py",
   "mimetype": "text/x-python",
   "name": "python",
   "nbconvert_exporter": "python",
   "pygments_lexer": "ipython3",
   "version": "3.12.2"
  }
 },
 "nbformat": 4,
 "nbformat_minor": 2
}
